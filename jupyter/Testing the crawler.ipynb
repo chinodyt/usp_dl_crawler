{
 "cells": [
  {
   "cell_type": "code",
   "execution_count": 24,
   "metadata": {},
   "outputs": [
    {
     "name": "stdout",
     "output_type": "stream",
     "text": [
      "The autoreload extension is already loaded. To reload it, use:\n",
      "  %reload_ext autoreload\n"
     ]
    }
   ],
   "source": [
    "%load_ext autoreload\n",
    "%autoreload 2\n",
    "\n",
    "import sys\n",
    "sys.path.append('../')\n",
    "\n",
    "from usp_dl.crawler import ThesisHTMLParser\n",
    "from usp_dl.crawler import Crawler"
   ]
  },
  {
   "cell_type": "code",
   "execution_count": 21,
   "metadata": {
    "scrolled": false
   },
   "outputs": [
    {
     "name": "stdout",
     "output_type": "stream",
     "text": [
      "Trying processamento de imagens\n",
      "Failed to connect... waiting one minute...\n",
      "1 4 20 10\n",
      "2 11 20 10\n",
      "3 20 20 10\n",
      "Trying educação\n",
      "1 2 20 10\n",
      "2 3 20 10\n",
      "3 8 20 10\n",
      "4 11 20 10\n",
      "5 14 20 10\n",
      "6 17 20 10\n",
      "7 20 20 6\n",
      "Trying blockchain\n",
      "1 1 20 1\n",
      "Trying jogos\n",
      "1 1 20 10\n",
      "2 2 20 10\n",
      "3 4 20 10\n",
      "4 5 20 10\n",
      "Failed to connect... waiting one minute...\n",
      "5 7 20 10\n",
      "6 9 20 10\n",
      "7 10 20 10\n",
      "8 13 20 10\n",
      "9 14 20 10\n",
      "10 16 20 10\n",
      "11 19 20 10\n",
      "12 19 20 10\n",
      "13 20 20 10\n",
      "Trying gamificação\n",
      "1 6 20 8\n",
      "Trying mineração de dados\n",
      "1 8 20 10\n",
      "2 16 20 10\n",
      "3 20 20 4\n",
      "Trying cachorro\n",
      "1 0 20 3\n",
      "Trying arte\n",
      "1 1 20 10\n",
      "2 3 20 10\n",
      "3 5 20 10\n",
      "4 10 20 10\n",
      "5 11 20 10\n",
      "6 13 20 10\n",
      "7 15 20 10\n",
      "8 17 20 10\n",
      "9 18 20 10\n",
      "10 20 20 10\n",
      "Trying psicologia\n",
      "1 3 20 10\n",
      "2 4 20 10\n",
      "3 5 20 10\n",
      "Failed to connect... waiting one minute...\n",
      "4 5 20 10\n",
      "5 5 20 10\n",
      "6 5 20 10\n",
      "7 7 20 10\n",
      "8 7 20 10\n",
      "9 9 20 10\n",
      "Failed to connect... waiting one minute...\n",
      "10 10 20 10\n",
      "11 11 20 10\n",
      "12 12 20 10\n",
      "13 13 20 10\n",
      "14 13 20 10\n",
      "15 15 20 10\n",
      "16 16 20 10\n",
      "17 16 20 10\n",
      "18 18 20 10\n",
      "19 20 20 5\n",
      "Trying filosofia\n",
      "1 2 20 10\n",
      "2 3 20 10\n",
      "3 4 20 10\n",
      "4 7 20 10\n",
      "Failed to connect... waiting one minute...\n",
      "5 10 20 10\n",
      "6 12 20 10\n",
      "7 14 20 10\n",
      "8 17 20 10\n",
      "9 20 20 9\n"
     ]
    }
   ],
   "source": [
    "keyword_list = ['processamento de imagens', 'educação', 'blockchain', 'jogos', 'gamificação',\n",
    "                'mineração de dados', 'imagens médicas', 'arte', 'psicologia', 'filosofia']\n",
    "\n",
    "crawler = Crawler()\n",
    "crawler.run(keyword_list, entries_per_keyword=20)"
   ]
  },
  {
   "cell_type": "code",
   "execution_count": 25,
   "metadata": {},
   "outputs": [
    {
     "name": "stdout",
     "output_type": "stream",
     "text": [
      "Trying imagens médicas\n",
      "    Added 10/20\n",
      "    Added 15/20\n",
      "    Added 20/20\n"
     ]
    }
   ],
   "source": [
    "crawler.run(['imagens médicas'], entries_per_keyword=20)"
   ]
  },
  {
   "cell_type": "code",
   "execution_count": 31,
   "metadata": {},
   "outputs": [],
   "source": [
    "crawler.save_as_csv('thesis_full.csv', ['query','keywords','url', 'date','author','title','pdf_url','abstract'])\n",
    "crawler.save_as_csv('thesis.csv', ['query','keywords','title','pdf_url','abstract'])"
   ]
  },
  {
   "cell_type": "code",
   "execution_count": 27,
   "metadata": {},
   "outputs": [
    {
     "data": {
      "text/plain": [
       "dict_keys(['url', 'query', 'keywords', 'author', 'advisor', 'title', 'abstract', 'date', 'pdf_url', 'doi'])"
      ]
     },
     "execution_count": 27,
     "metadata": {},
     "output_type": "execute_result"
    }
   ],
   "source": [
    "crawler.entries[0].return_fields"
   ]
  },
  {
   "cell_type": "code",
   "execution_count": null,
   "metadata": {},
   "outputs": [],
   "source": []
  }
 ],
 "metadata": {
  "kernelspec": {
   "display_name": "Python 3",
   "language": "python",
   "name": "python3"
  },
  "language_info": {
   "codemirror_mode": {
    "name": "ipython",
    "version": 3
   },
   "file_extension": ".py",
   "mimetype": "text/x-python",
   "name": "python",
   "nbconvert_exporter": "python",
   "pygments_lexer": "ipython3",
   "version": "3.6.9"
  }
 },
 "nbformat": 4,
 "nbformat_minor": 2
}
