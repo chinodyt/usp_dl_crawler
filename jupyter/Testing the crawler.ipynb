{
 "cells": [
  {
   "cell_type": "code",
   "execution_count": null,
   "metadata": {},
   "outputs": [],
   "source": [
    "%load_ext autoreload\n",
    "%autoreload 2\n",
    "\n",
    "import sys\n",
    "sys.path.append('../')\n",
    "\n",
    "from usp_dl.crawler import ThesisHTMLParser\n",
    "from usp_dl.crawler import Crawler"
   ]
  },
  {
   "cell_type": "code",
   "execution_count": null,
   "metadata": {
    "scrolled": false
   },
   "outputs": [],
   "source": [
    "keyword_list = ['processamento de imagens', 'educação', 'blockchain', 'jogos', 'gamificação',\n",
    "                'mineração de dados', 'imagens médicas', 'arte', 'psicologia', 'filosofia']\n",
    "\n",
    "crawler = Crawler()\n",
    "crawler.run(keyword_list, entries_per_keyword=20)"
   ]
  },
  {
   "cell_type": "code",
   "execution_count": null,
   "metadata": {},
   "outputs": [],
   "source": [
    "crawler.save_as_csv('thesis_full.csv', ['query','keywords','url', 'date','author','title','pdf_url','abstract'])\n",
    "crawler.save_as_csv('thesis.csv', ['query','keywords','title','pdf_url','abstract'])"
   ]
  }
 ],
 "metadata": {
  "kernelspec": {
   "display_name": "Python 3",
   "language": "python",
   "name": "python3"
  },
  "language_info": {
   "codemirror_mode": {
    "name": "ipython",
    "version": 3
   },
   "file_extension": ".py",
   "mimetype": "text/x-python",
   "name": "python",
   "nbconvert_exporter": "python",
   "pygments_lexer": "ipython3",
   "version": "3.6.9"
  }
 },
 "nbformat": 4,
 "nbformat_minor": 2
}
